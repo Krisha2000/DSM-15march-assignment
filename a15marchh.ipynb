{
 "cells": [
  {
   "cell_type": "markdown",
   "id": "0e907db5-271b-4fa3-aa0b-43e2f22c5dee",
   "metadata": {},
   "source": [
    "# Quetion : 1"
   ]
  },
  {
   "cell_type": "markdown",
   "id": "7fea6a24-d5cc-45da-90c4-e480397d01c0",
   "metadata": {},
   "source": [
    "Artificial Intelligence:\n",
    "\n",
    "Artificial Intelligence (AI) refers to the development of intelligent machines that can perform tasks that typically require human intelligence, such as visual perception, speech recognition, decision-making, and language translation. It involves the development of algorithms and models that can process large amounts of data and learn from it to improve performance.\n",
    "\n",
    "Example: One example of AI is Siri, the personal assistant application developed by Apple. It can recognize speech, process natural language queries, and provide responses to questions.\n",
    "\n",
    "Machine Learning:\n",
    "\n",
    "Machine Learning (ML) is a subfield of AI that focuses on the development of algorithms and models that can learn from data without being explicitly programmed. It involves the use of statistical and computational techniques to analyze data and identify patterns and relationships.\n",
    "\n",
    "Example: An example of machine learning is a spam filter that learns from user feedback to identify and block unwanted emails.\n",
    "\n",
    "Deep Learning:\n",
    "\n",
    "Deep Learning (DL) is a type of machine learning that uses artificial neural networks with multiple layers to process and learn from data. It involves the development of complex models that can analyze and classify large amounts of data with high accuracy.\n",
    "\n",
    "Example: An example of deep learning is the use of Convolutional Neural Networks (CNNs) for image recognition, which have achieved state-of-the-art performance in many computer vision tasks."
   ]
  },
  {
   "cell_type": "markdown",
   "id": "324815dc-1025-4def-b087-29c6a2dea048",
   "metadata": {},
   "source": [
    "# Quetion : 2"
   ]
  },
  {
   "cell_type": "markdown",
   "id": "e78b89b5-5081-43a2-b9cd-89f99c36c8da",
   "metadata": {},
   "source": [
    "Supervised Learning:\n",
    "\n",
    "Supervised Learning is a type of machine learning where the algorithm learns from labeled data, where the input data is associated with an output label or target. The algorithm learns to map inputs to outputs by minimizing the error between predicted and actual outputs.\n",
    "\n",
    "Examples of Supervised Learning include:\n",
    "\n",
    "Image Classification\n",
    "Sentiment Analysis\n",
    "Regression Analysis\n",
    "Fraud Detection"
   ]
  },
  {
   "cell_type": "markdown",
   "id": "958038b9-48ad-404b-8f35-ed29916c9fbc",
   "metadata": {},
   "source": [
    "# Quetion : 3"
   ]
  },
  {
   "cell_type": "markdown",
   "id": "e702d947-cd5d-4732-840b-122141e958ef",
   "metadata": {},
   "source": [
    "Unsupervised Learning:\n",
    "\n",
    "Unsupervised Learning is a type of machine learning where the algorithm learns from unlabeled data, where the input data is not associated with any output label or target. The algorithm learns to find patterns and relationships in the data by clustering or dimensionality reduction.\n",
    "\n",
    "Examples of Unsupervised Learning include:\n",
    "\n",
    "Clustering Analysis\n",
    "Anomaly Detection\n",
    "Association Rule Learning\n",
    "Dimensionality Reduction"
   ]
  },
  {
   "cell_type": "markdown",
   "id": "dc7643c0-d381-4611-a758-9c07e009e0fc",
   "metadata": {},
   "source": [
    "# Quetion : 4"
   ]
  },
  {
   "cell_type": "markdown",
   "id": "e3e2cfdb-0006-4070-bce4-c3c84d513daa",
   "metadata": {},
   "source": [
    "The difference between AI, ML, DL, and DS:\n",
    "\n",
    "AI is a broad field that encompasses the development of intelligent machines that can perform tasks requiring human-like intelligence. Machine Learning is a subfield of AI that focuses on the development of algorithms that can learn from data without being explicitly programmed. Deep Learning is a type of machine learning that uses artificial neural networks with multiple layers to process and learn from data. Data Science is a broader term that encompasses various techniques and tools used to analyze and interpret complex data."
   ]
  },
  {
   "cell_type": "markdown",
   "id": "79f7ab1f-d286-4bee-bf6f-ca6146917f42",
   "metadata": {},
   "source": [
    "# Quetion : 5"
   ]
  },
  {
   "cell_type": "markdown",
   "id": "547344ed-ac61-4607-80b4-2eb8cb2889d7",
   "metadata": {},
   "source": [
    "The main differences between Supervised, Unsupervised, and Semi-Supervised Learning:\n",
    "\n",
    "Supervised Learning involves learning from labeled data, while Unsupervised Learning involves learning from unlabeled data. Semi-Supervised Learning is a combination of both supervised and unsupervised learning, where the algorithm learns from a combination of labeled and unlabeled data. Supervised Learning is typically used for prediction and classification tasks, while Unsupervised Learning is typically used for clustering and anomaly detection."
   ]
  },
  {
   "cell_type": "markdown",
   "id": "49a64ee4-5f7b-4467-ad6e-2e1e0ab2f71b",
   "metadata": {},
   "source": [
    "# Quetion : 6"
   ]
  },
  {
   "cell_type": "markdown",
   "id": "acfa6842-eda1-4959-a486-c7774dc98b10",
   "metadata": {},
   "source": [
    " In machine learning, the dataset is typically divided into three parts: training set, validation set, and test set, known as the train-test-validation split. The training set is the portion of the data used to train a model, while the validation set is used to tune hyperparameters and select the best model. Finally, the test set is used to evaluate the model's performance on unseen data.\n",
    "\n",
    "The importance of the train-test-validation split lies in the ability to accurately evaluate the performance of a model on unseen data. By splitting the data, we can train a model on one subset of the data, tune it on another subset, and evaluate its performance on a completely separate subset. This ensures that the model generalizes well to new data and is not overfitting to the training data."
   ]
  },
  {
   "cell_type": "markdown",
   "id": "9d224857-6e70-4ee0-8bdb-c379b1d0cbcb",
   "metadata": {},
   "source": [
    "# Quetion : 7"
   ]
  },
  {
   "cell_type": "markdown",
   "id": "c093b8e0-c3aa-4480-bb95-e8345b4ba5fb",
   "metadata": {},
   "source": [
    "Unsupervised learning can be used in anomaly detection by identifying patterns in the data that are outside the norm. Anomalies are often rare, and it can be difficult to know what to look for in advance, making unsupervised learning ideal for this task. Unsupervised learning algorithms can be trained on large datasets to identify clusters of data points that are similar to each other, and then classify any new data point that does not belong to these clusters as an anomaly. Clustering algorithms such as k-means or DBSCAN are commonly used for anomaly detection."
   ]
  },
  {
   "cell_type": "markdown",
   "id": "54d2d265-4f69-42c6-a72b-8def2336d1c8",
   "metadata": {},
   "source": [
    "# Quetion : 8"
   ]
  },
  {
   "cell_type": "code",
   "execution_count": null,
   "id": "46f27c1e-976a-4bcc-bc72-6ef8d6343e97",
   "metadata": {},
   "outputs": [],
   "source": [
    " Some commonly used supervised learning algorithms are:\n",
    "\n",
    "Linear regression\n",
    "Logistic regression\n",
    "Decision trees\n",
    "Random forests\n",
    "Support vector machines (SVM)\n",
    "Naive Bayes\n",
    "Neural networks (e.g., deep learning)\n",
    "Some commonly used unsupervised learning algorithms are:\n",
    "\n",
    "K-means clustering\n",
    "Hierarchical clustering\n",
    "DBSCAN (Density-Based Spatial Clustering of Applications with Noise)\n",
    "Principal component analysis (PCA)\n",
    "Autoencoders\n",
    "Generative adversarial networks (GANs)\n",
    "\n",
    "\n",
    "\n"
   ]
  }
 ],
 "metadata": {
  "kernelspec": {
   "display_name": "Python 3 (ipykernel)",
   "language": "python",
   "name": "python3"
  },
  "language_info": {
   "codemirror_mode": {
    "name": "ipython",
    "version": 3
   },
   "file_extension": ".py",
   "mimetype": "text/x-python",
   "name": "python",
   "nbconvert_exporter": "python",
   "pygments_lexer": "ipython3",
   "version": "3.10.8"
  }
 },
 "nbformat": 4,
 "nbformat_minor": 5
}
